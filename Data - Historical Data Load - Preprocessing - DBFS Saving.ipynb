{
 "cells": [
  {
   "cell_type": "code",
   "execution_count": 0,
   "metadata": {
    "application/vnd.databricks.v1+cell": {
     "cellMetadata": {
      "byteLimit": 2048000,
      "rowLimit": 10000
     },
     "inputWidgets": {},
     "nuid": "8fb857fe-04cc-4a11-b6a0-3f08706df7b7",
     "showTitle": false,
     "tableResultSettingsMap": {},
     "title": ""
    }
   },
   "outputs": [
    {
     "output_type": "display_data",
     "data": {
      "application/vnd.databricks.v1+bamboolib_hint": "{\"pd.DataFrames\": [], \"version\": \"0.0.1\"}",
      "text/plain": []
     },
     "metadata": {},
     "output_type": "display_data"
    }
   ],
   "source": [
    "import requests\n",
    "import pandas as pd\n",
    "\n",
    "import json\n",
    "\n",
    "from pyspark.sql.functions import col\n",
    "from pyspark.sql.types import StringType, DoubleType\n",
    "from pyspark.ml.feature import VectorAssembler, StandardScaler\n",
    "\n",
    "from pyspark.sql.utils import AnalysisException"
   ]
  },
  {
   "cell_type": "markdown",
   "metadata": {
    "application/vnd.databricks.v1+cell": {
     "cellMetadata": {
      "byteLimit": 2048000,
      "rowLimit": 10000
     },
     "inputWidgets": {},
     "nuid": "87ba526e-5450-454c-8bc9-a190f814d9fd",
     "showTitle": false,
     "tableResultSettingsMap": {},
     "title": ""
    }
   },
   "source": [
    "## Selected features from Open Meteo (from EDA)"
   ]
  },
  {
   "cell_type": "code",
   "execution_count": 0,
   "metadata": {
    "application/vnd.databricks.v1+cell": {
     "cellMetadata": {
      "byteLimit": 2048000,
      "rowLimit": 10000
     },
     "inputWidgets": {},
     "nuid": "14a0f843-0043-4634-a527-d68533d660c3",
     "showTitle": false,
     "tableResultSettingsMap": {},
     "title": ""
    }
   },
   "outputs": [],
   "source": [
    "# Features\n",
    "feature_cols = [\n",
    "    \"temperature_2m\", \"precipitation\", \"wind_speed_10m\",\n",
    "    \"wind_speed_80m\", \"wind_speed_120m\", \"wind_speed_180m\",\n",
    "    \"cloud_cover\"\n",
    "]"
   ]
  },
  {
   "cell_type": "markdown",
   "metadata": {
    "application/vnd.databricks.v1+cell": {
     "cellMetadata": {
      "byteLimit": 2048000,
      "rowLimit": 10000
     },
     "inputWidgets": {},
     "nuid": "8e60deb6-a88d-4741-8c2d-ba3286623caf",
     "showTitle": false,
     "tableResultSettingsMap": {},
     "title": ""
    }
   },
   "source": [
    "## Open-Meteo request for historical data"
   ]
  },
  {
   "cell_type": "code",
   "execution_count": 0,
   "metadata": {
    "application/vnd.databricks.v1+cell": {
     "cellMetadata": {
      "byteLimit": 2048000,
      "rowLimit": 10000
     },
     "inputWidgets": {},
     "nuid": "6b518c1d-6a07-410f-a6d0-eb0eade45cb5",
     "showTitle": false,
     "tableResultSettingsMap": {},
     "title": ""
    }
   },
   "outputs": [],
   "source": [
    "url = \"https://historical-forecast-api.open-meteo.com/v1/forecast\"\n",
    "params = {\n",
    "    # Lisbon coordinates\n",
    "\t\"latitude\": 38.716885,\n",
    "\t\"longitude\": -9.140233,\n",
    "\t# 1 Year Historical data\n",
    "\t\"start_date\": \"2024-05-01\",\n",
    "\t\"end_date\": \"2025-05-01\",\n",
    "\t\"hourly\": feature_cols\n",
    "}\n",
    "\n",
    "response = requests.get(url, params=params)\n",
    "data = response.json()\n",
    "df = pd.DataFrame(data['hourly'])"
   ]
  },
  {
   "cell_type": "code",
   "execution_count": 0,
   "metadata": {
    "application/vnd.databricks.v1+cell": {
     "cellMetadata": {
      "byteLimit": 2048000,
      "rowLimit": 10000
     },
     "inputWidgets": {},
     "nuid": "1ae5c155-05b9-44dd-b829-54db32d550c3",
     "showTitle": false,
     "tableResultSettingsMap": {},
     "title": ""
    }
   },
   "outputs": [
    {
     "output_type": "stream",
     "name": "stdout",
     "output_type": "stream",
     "text": [
      "Out[4]: time                object\ntemperature_2m     float64\nprecipitation      float64\nwind_speed_10m     float64\nwind_speed_80m     float64\nwind_speed_120m    float64\nwind_speed_180m    float64\ncloud_cover          int64\ndtype: object"
     ]
    }
   ],
   "source": [
    "df.dtypes"
   ]
  },
  {
   "cell_type": "code",
   "execution_count": 0,
   "metadata": {
    "application/vnd.databricks.v1+cell": {
     "cellMetadata": {
      "byteLimit": 2048000,
      "rowLimit": 10000
     },
     "inputWidgets": {},
     "nuid": "6387c261-db41-4c27-bd72-6512c81b0b61",
     "showTitle": false,
     "tableResultSettingsMap": {},
     "title": ""
    }
   },
   "outputs": [
    {
     "output_type": "stream",
     "name": "stdout",
     "output_type": "stream",
     "text": [
      "root\n |-- time: string (nullable = true)\n |-- temperature_2m: double (nullable = true)\n |-- precipitation: double (nullable = true)\n |-- wind_speed_10m: double (nullable = true)\n |-- wind_speed_80m: double (nullable = true)\n |-- wind_speed_120m: double (nullable = true)\n |-- wind_speed_180m: double (nullable = true)\n |-- cloud_cover: double (nullable = true)\n\n"
     ]
    },
    {
     "output_type": "display_data",
     "data": {
      "text/html": [
       "<style scoped>\n",
       "  .table-result-container {\n",
       "    max-height: 300px;\n",
       "    overflow: auto;\n",
       "  }\n",
       "  table, th, td {\n",
       "    border: 1px solid black;\n",
       "    border-collapse: collapse;\n",
       "  }\n",
       "  th, td {\n",
       "    padding: 5px;\n",
       "  }\n",
       "  th {\n",
       "    text-align: left;\n",
       "  }\n",
       "</style><div class='table-result-container'><table class='table-result'><thead style='background-color: white'><tr><th>time</th><th>temperature_2m</th><th>precipitation</th><th>wind_speed_10m</th><th>wind_speed_80m</th><th>wind_speed_120m</th><th>wind_speed_180m</th><th>cloud_cover</th></tr></thead><tbody><tr><td>2024-05-01T00:00</td><td>14.0</td><td>0.0</td><td>8.7</td><td>20.1</td><td>23.2</td><td>26.9</td><td>96.0</td></tr><tr><td>2024-05-01T01:00</td><td>13.4</td><td>0.0</td><td>11.9</td><td>26.3</td><td>29.1</td><td>31.1</td><td>73.0</td></tr><tr><td>2024-05-01T02:00</td><td>12.4</td><td>0.0</td><td>8.6</td><td>19.8</td><td>22.8</td><td>26.4</td><td>47.0</td></tr><tr><td>2024-05-01T03:00</td><td>12.2</td><td>0.0</td><td>7.4</td><td>22.3</td><td>26.6</td><td>29.4</td><td>39.0</td></tr><tr><td>2024-05-01T04:00</td><td>11.5</td><td>0.0</td><td>6.6</td><td>17.8</td><td>21.3</td><td>26.6</td><td>38.0</td></tr><tr><td>2024-05-01T05:00</td><td>11.3</td><td>0.0</td><td>7.5</td><td>20.1</td><td>23.4</td><td>26.0</td><td>49.0</td></tr><tr><td>2024-05-01T06:00</td><td>11.1</td><td>0.0</td><td>6.2</td><td>17.4</td><td>21.3</td><td>29.0</td><td>29.0</td></tr><tr><td>2024-05-01T07:00</td><td>12.1</td><td>0.0</td><td>6.9</td><td>18.6</td><td>22.1</td><td>30.0</td><td>26.0</td></tr><tr><td>2024-05-01T08:00</td><td>13.7</td><td>0.0</td><td>14.5</td><td>28.2</td><td>30.8</td><td>32.1</td><td>49.0</td></tr><tr><td>2024-05-01T09:00</td><td>14.6</td><td>0.0</td><td>14.2</td><td>26.5</td><td>27.7</td><td>28.9</td><td>46.0</td></tr></tbody></table></div>"
      ]
     },
     "metadata": {
      "application/vnd.databricks.v1+output": {
       "addedWidgets": {},
       "aggData": [],
       "aggError": "",
       "aggOverflow": false,
       "aggSchema": [],
       "aggSeriesLimitReached": false,
       "aggType": "",
       "arguments": {},
       "columnCustomDisplayInfos": {},
       "data": [
        [
         "2024-05-01T00:00",
         14.0,
         0.0,
         8.7,
         20.1,
         23.2,
         26.9,
         96.0
        ],
        [
         "2024-05-01T01:00",
         13.4,
         0.0,
         11.9,
         26.3,
         29.1,
         31.1,
         73.0
        ],
        [
         "2024-05-01T02:00",
         12.4,
         0.0,
         8.6,
         19.8,
         22.8,
         26.4,
         47.0
        ],
        [
         "2024-05-01T03:00",
         12.2,
         0.0,
         7.4,
         22.3,
         26.6,
         29.4,
         39.0
        ],
        [
         "2024-05-01T04:00",
         11.5,
         0.0,
         6.6,
         17.8,
         21.3,
         26.6,
         38.0
        ],
        [
         "2024-05-01T05:00",
         11.3,
         0.0,
         7.5,
         20.1,
         23.4,
         26.0,
         49.0
        ],
        [
         "2024-05-01T06:00",
         11.1,
         0.0,
         6.2,
         17.4,
         21.3,
         29.0,
         29.0
        ],
        [
         "2024-05-01T07:00",
         12.1,
         0.0,
         6.9,
         18.6,
         22.1,
         30.0,
         26.0
        ],
        [
         "2024-05-01T08:00",
         13.7,
         0.0,
         14.5,
         28.2,
         30.8,
         32.1,
         49.0
        ],
        [
         "2024-05-01T09:00",
         14.6,
         0.0,
         14.2,
         26.5,
         27.7,
         28.9,
         46.0
        ]
       ],
       "datasetInfos": [],
       "dbfsResultPath": null,
       "isJsonSchema": true,
       "metadata": {},
       "overflow": false,
       "plotOptions": {
        "customPlotOptions": {},
        "displayType": "table",
        "pivotAggregation": null,
        "pivotColumns": null,
        "xColumns": null,
        "yColumns": null
       },
       "removedWidgets": [],
       "schema": [
        {
         "metadata": "{}",
         "name": "time",
         "type": "\"string\""
        },
        {
         "metadata": "{}",
         "name": "temperature_2m",
         "type": "\"double\""
        },
        {
         "metadata": "{}",
         "name": "precipitation",
         "type": "\"double\""
        },
        {
         "metadata": "{}",
         "name": "wind_speed_10m",
         "type": "\"double\""
        },
        {
         "metadata": "{}",
         "name": "wind_speed_80m",
         "type": "\"double\""
        },
        {
         "metadata": "{}",
         "name": "wind_speed_120m",
         "type": "\"double\""
        },
        {
         "metadata": "{}",
         "name": "wind_speed_180m",
         "type": "\"double\""
        },
        {
         "metadata": "{}",
         "name": "cloud_cover",
         "type": "\"double\""
        }
       ],
       "type": "table"
      }
     },
     "output_type": "display_data"
    }
   ],
   "source": [
    "sdf = spark.createDataFrame(df)\n",
    "\n",
    "# Cast columns to types\n",
    "sdf = sdf.select(\n",
    "    col(\"time\").cast(StringType()),\n",
    "    col(\"temperature_2m\").cast(DoubleType()),\n",
    "    col(\"precipitation\").cast(DoubleType()),\n",
    "    col(\"wind_speed_10m\").cast(DoubleType()),\n",
    "    col(\"wind_speed_80m\").cast(DoubleType()),\n",
    "    col(\"wind_speed_120m\").cast(DoubleType()),\n",
    "    col(\"wind_speed_180m\").cast(DoubleType()),\n",
    "    col(\"cloud_cover\").cast(DoubleType())\n",
    ")\n",
    "\n",
    "sdf.printSchema()\n",
    "display(sdf.limit(10))"
   ]
  },
  {
   "cell_type": "markdown",
   "metadata": {
    "application/vnd.databricks.v1+cell": {
     "cellMetadata": {
      "byteLimit": 2048000,
      "rowLimit": 10000
     },
     "inputWidgets": {},
     "nuid": "6cb412ae-a0bc-472e-8722-201d0a607cab",
     "showTitle": false,
     "tableResultSettingsMap": {},
     "title": ""
    }
   },
   "source": [
    "## Assembly and Scaling\n",
    "For all model trainings to use the same & not having to re-execute this."
   ]
  },
  {
   "cell_type": "code",
   "execution_count": 0,
   "metadata": {
    "application/vnd.databricks.v1+cell": {
     "cellMetadata": {
      "byteLimit": 2048000,
      "rowLimit": 10000
     },
     "inputWidgets": {},
     "nuid": "0aeca624-63fa-46fc-ad65-bed72052b16a",
     "showTitle": false,
     "tableResultSettingsMap": {},
     "title": ""
    }
   },
   "outputs": [
    {
     "output_type": "stream",
     "name": "stdout",
     "output_type": "stream",
     "text": [
      "+-----------------------------------+-------------------------------------------------------------------------------------------------------------------------------------------------+\n|features                           |features_scaled                                                                                                                                  |\n+-----------------------------------+-------------------------------------------------------------------------------------------------------------------------------------------------+\n|[14.0,0.0,8.7,20.1,23.2,26.9,96.0] |[-0.6590445687508486,-0.19775002273369255,-0.10560424671887478,0.180274562944951,0.16579368256782015,0.20510626564808207,1.087019313747202]      |\n|[13.4,0.0,11.9,26.3,29.1,31.1,73.0]|[-0.7750025477703008,-0.19775002273369255,0.5002305289146354,0.8329430943676615,0.7169921349709903,0.5525325483524708,0.49537596572697845]       |\n|[12.4,0.0,8.6,19.8,22.8,26.4,47.0] |[-0.9682658461360546,-0.19775002273369255,-0.1245365834574219,0.14869382755352945,0.12842429596421553,0.16374599389755962,-0.17343825377414385]  |\n|[12.2,0.0,7.4,22.3,26.6,29.4,39.0] |[-1.0069185058092056,-0.19775002273369255,-0.351724624319988,0.41186662248204176,0.48343346869846066,0.4119076244006943,-0.37922724438987376]    |\n|[11.5,0.0,6.6,17.8,21.3,26.6,38.0] |[-1.1422028146652332,-0.19775002273369255,-0.5031833182283656,-0.06184440838928039,-0.011710903799302242,0.18029010259776884,-0.40495086821684]  |\n|[11.3,0.0,7.5,20.1,23.4,26.0,49.0] |[-1.1808554743383837,-0.19775002273369255,-0.33279228758144086,0.180274562944951,0.18447837586962246,0.13065777649714178,-0.12199100612021135]   |\n|[11.1,0.0,6.2,17.4,21.3,29.0,29.0] |[-1.2195081340115348,-0.19775002273369255,-0.5789126651825542,-0.10395205557784258,-0.011710903799302242,0.37881940700027644,-0.6364634826595362]|\n|[12.1,0.0,6.9,18.6,22.1,30.0,26.0] |[-1.026244835645781,-0.19775002273369255,-0.44638630801272394,0.022370885987843623,0.0630278694079073,0.4615399505013213,-0.713634354140435]     |\n|[13.7,0.0,14.5,28.2,30.8,32.1,49.0]|[-0.7170235582605748,-0.19775002273369255,0.9924712841168623,1.0329544185133306,0.8758120280363104,0.6352530918535156,-0.12199100612021135]      |\n|[14.6,0.0,14.2,26.5,27.7,28.9,46.0]|[-0.5430865897313963,-0.19775002273369255,0.9356742739012205,0.8539969179619423,0.5861992818583736,0.3705473526501718,-0.1991618776011101]       |\n|[15.4,0.0,16.8,30.9,32.6,33.8,58.0]|[-0.3884759510387932,-0.19775002273369255,1.4279150291034477,1.3171810370361239,1.0439742677525319,0.7758780158052916,0.10952160832248482]       |\n|[16.1,0.0,16.9,29.8,31.1,32.2,62.0]|[-0.2531916421827653,-0.19775002273369255,1.4468473658419945,1.2013850072675787,0.903839067989014,0.6435251462036202,0.2124161036303498]         |\n|[16.5,0.0,16.4,29.1,30.4,31.6,49.0]|[-0.17588632283646405,-0.19775002273369255,1.3521856821492584,1.1276966246875952,0.8384426414327054,0.5938928201029933,-0.12199100612021135]     |\n|[16.5,0.0,17.2,31.1,32.9,33.8,58.0]|[-0.17588632283646405,-0.19775002273369255,1.5036443760576361,1.338234860630405,1.072001307705235,0.7758780158052916,0.10952160832248482]        |\n|[16.8,0.0,17.4,30.6,31.9,33.2,42.0]|[-0.11790733332673775,-0.19775002273369255,1.5415090495347303,1.2856003016447026,0.9785778411962233,0.7262456897046652,-0.3020563729089751]      |\n|[17.1,0.0,16.6,29.9,31.7,32.7,35.0]|[-0.059928343817011474,-0.19775002273369255,1.3900503556263535,1.211911919064719,0.9598931478944209,0.6848854179541427,-0.48212173969773875]     |\n|[16.6,0.0,15.9,29.8,31.6,32.6,40.0]|[-0.15655999299988838,-0.19775002273369255,1.257523998456523,1.2013850072675787,0.95055080124352,0.6766133636040381,-0.3535036205629076]         |\n|[16.1,0.0,14.7,27.5,29.2,30.0,37.0]|[-0.2531916421827653,-0.19775002273369255,1.0303359575939564,0.9592660359333472,0.7263344816218913,0.4615399505013213,-0.43067449204380626]      |\n|[15.5,0.0,13.2,25.9,27.6,28.6,36.0]|[-0.36914962120221784,-0.19775002273369255,0.7463509065157486,0.7908354471790993,0.5768569352074725,0.3457311895998586,-0.4563981158707725]      |\n|[14.5,0.0,12.0,24.8,26.8,28.1,45.0]|[-0.5624129195679717,-0.19775002273369255,0.5191628656531825,0.6750394174105541,0.5021181620002629,0.3043709178493362,-0.22488550142807634]      |\n+-----------------------------------+-------------------------------------------------------------------------------------------------------------------------------------------------+\nonly showing top 20 rows\n\n"
     ]
    }
   ],
   "source": [
    "# Combine different feature columns into one single column (adds a \"features\" column of type vector)\n",
    "assembler = VectorAssembler(inputCols=feature_cols, outputCol=\"features\")\n",
    "assembled_sdf = assembler.transform(sdf)\n",
    "\n",
    "# Define scaler\n",
    "scaler = StandardScaler(\n",
    "    inputCol=\"features\", # assembled vector\n",
    "    outputCol=\"features_scaled\", # standardized vector\n",
    "    withMean=True, # mean 0\n",
    "    withStd=True # std dev 1\n",
    ")\n",
    "\n",
    "scaler_model = scaler.fit(assembled_sdf)\n",
    "scaled_sdf = scaler_model.transform(assembled_sdf)\n",
    "\n",
    "# Save scaler model for usage in streaming\n",
    "scaler_model.write().overwrite().save(\"/dbfs/tmp/scaler_model\")\n",
    "\n",
    "scaled_sdf.select(\"features\", \"features_scaled\").show(truncate=False) # Check"
   ]
  },
  {
   "cell_type": "markdown",
   "metadata": {
    "application/vnd.databricks.v1+cell": {
     "cellMetadata": {
      "byteLimit": 2048000,
      "rowLimit": 10000
     },
     "inputWidgets": {},
     "nuid": "808ff2e2-cfa6-4761-9266-1efedc56c86d",
     "showTitle": false,
     "tableResultSettingsMap": {},
     "title": ""
    }
   },
   "source": [
    "## Saving to DBFS as a parquet file\n",
    "As we are saving the data which is going to have a fixed schema and we don't have a need for ACID transactions, we're using parquet and not a delta lake."
   ]
  },
  {
   "cell_type": "code",
   "execution_count": 0,
   "metadata": {
    "application/vnd.databricks.v1+cell": {
     "cellMetadata": {
      "byteLimit": 2048000,
      "rowLimit": 10000
     },
     "inputWidgets": {},
     "nuid": "b877a9ea-e4b7-4334-b0b8-81987caa3c1e",
     "showTitle": false,
     "tableResultSettingsMap": {},
     "title": ""
    }
   },
   "outputs": [
    {
     "output_type": "stream",
     "name": "stdout",
     "output_type": "stream",
     "text": [
      "Deleted successfully.\nWrote 124 bytes.\nOut[7]: True"
     ]
    }
   ],
   "source": [
    "# Permanent table name\n",
    "permanent_table_name = \"historical_weather_hourly_lisbon\"\n",
    "\n",
    "# Try to delete managed table\n",
    "try:\n",
    "    dbutils.fs.rm(\"dbfs:/user/hive/warehouse/historical_weather_hourly_lisbon\", recurse=True)\n",
    "    print(\"Deleted successfully.\")\n",
    "except Exception as e:\n",
    "    print(\"Path may not exist or could not be deleted:\", str(e))\n",
    "# Save as a managed table as parquet\n",
    "scaled_sdf.write.mode(\"overwrite\").format(\"parquet\").saveAsTable(permanent_table_name)\n",
    "\n",
    "# Save used feature cols \n",
    "# TODO change tmp folder?\n",
    "dbutils.fs.put(\"dbfs:/tmp/feature_cols.json\", json.dumps(feature_cols), overwrite=True)"
   ]
  }
 ],
 "metadata": {
  "application/vnd.databricks.v1+notebook": {
   "computePreferences": null,
   "dashboards": [],
   "environmentMetadata": {
    "base_environment": "",
    "environment_version": "1"
   },
   "inputWidgetPreferences": null,
   "language": "python",
   "notebookMetadata": {
    "pythonIndentUnit": 4
   },
   "notebookName": "Data - Historical Data Load - Preprocessing - DBFS Saving",
   "widgets": {}
  }
 },
 "nbformat": 4,
 "nbformat_minor": 0
}