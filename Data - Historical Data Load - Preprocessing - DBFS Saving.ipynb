{
 "cells": [
  {
   "cell_type": "code",
   "execution_count": 0,
   "metadata": {
    "application/vnd.databricks.v1+cell": {
     "cellMetadata": {
      "byteLimit": 2048000,
      "rowLimit": 10000
     },
     "inputWidgets": {},
     "nuid": "8fb857fe-04cc-4a11-b6a0-3f08706df7b7",
     "showTitle": false,
     "tableResultSettingsMap": {},
     "title": ""
    }
   },
   "outputs": [
    {
     "output_type": "display_data",
     "data": {
      "application/vnd.databricks.v1+bamboolib_hint": "{\"pd.DataFrames\": [], \"version\": \"0.0.1\"}",
      "text/plain": []
     },
     "metadata": {},
     "output_type": "display_data"
    }
   ],
   "source": [
    "import requests\n",
    "import pandas as pd\n",
    "\n",
    "import json\n",
    "\n",
    "from pyspark.sql.functions import col\n",
    "from pyspark.sql.types import StringType, DoubleType\n",
    "from pyspark.ml.feature import VectorAssembler, StandardScaler\n",
    "\n",
    "from pyspark.sql.utils import AnalysisException"
   ]
  },
  {
   "cell_type": "markdown",
   "metadata": {
    "application/vnd.databricks.v1+cell": {
     "cellMetadata": {
      "byteLimit": 2048000,
      "rowLimit": 10000
     },
     "inputWidgets": {},
     "nuid": "87ba526e-5450-454c-8bc9-a190f814d9fd",
     "showTitle": false,
     "tableResultSettingsMap": {},
     "title": ""
    }
   },
   "source": [
    "## Selected features from Open Meteo (from EDA)\n",
    "Features from Open Meteo were explored in the EDA notebook."
   ]
  },
  {
   "cell_type": "code",
   "execution_count": 0,
   "metadata": {
    "application/vnd.databricks.v1+cell": {
     "cellMetadata": {
      "byteLimit": 2048000,
      "rowLimit": 10000
     },
     "inputWidgets": {},
     "nuid": "14a0f843-0043-4634-a527-d68533d660c3",
     "showTitle": false,
     "tableResultSettingsMap": {},
     "title": ""
    }
   },
   "outputs": [],
   "source": [
    "# Optimal Features for clustering - from EDA\n",
    "feature_cols = [\n",
    "    \"temperature_2m\", \"precipitation\", \"wind_gusts_10m\", \"cloud_cover\"#, \"pressure_msl\", \"visibility\" # removed due to high interference with clustering\n",
    "]"
   ]
  },
  {
   "cell_type": "markdown",
   "metadata": {
    "application/vnd.databricks.v1+cell": {
     "cellMetadata": {
      "byteLimit": 2048000,
      "rowLimit": 10000
     },
     "inputWidgets": {},
     "nuid": "8e60deb6-a88d-4741-8c2d-ba3286623caf",
     "showTitle": false,
     "tableResultSettingsMap": {},
     "title": ""
    }
   },
   "source": [
    "## Open-Meteo request for historical data\n",
    "Loading historical forecast data, basically represents the training data."
   ]
  },
  {
   "cell_type": "code",
   "execution_count": 0,
   "metadata": {
    "application/vnd.databricks.v1+cell": {
     "cellMetadata": {
      "byteLimit": 2048000,
      "rowLimit": 10000
     },
     "inputWidgets": {},
     "nuid": "6b518c1d-6a07-410f-a6d0-eb0eade45cb5",
     "showTitle": false,
     "tableResultSettingsMap": {},
     "title": ""
    }
   },
   "outputs": [],
   "source": [
    "url = \"https://historical-forecast-api.open-meteo.com/v1/forecast\"\n",
    "params = {\n",
    "    # Lisbon coordinates\n",
    "\t\"latitude\": 38.716885,\n",
    "\t\"longitude\": -9.140233,\n",
    "\t# 1 Year Historical data\n",
    "\t\"start_date\": \"2024-06-01\",\n",
    "\t\"end_date\": \"2025-06-01\",\n",
    "\t\"hourly\": feature_cols\n",
    "}\n",
    "\n",
    "response = requests.get(url, params=params)\n",
    "data = response.json()\n",
    "df = pd.DataFrame(data['hourly'])"
   ]
  },
  {
   "cell_type": "code",
   "execution_count": 0,
   "metadata": {
    "application/vnd.databricks.v1+cell": {
     "cellMetadata": {
      "byteLimit": 2048000,
      "rowLimit": 10000
     },
     "inputWidgets": {},
     "nuid": "1ae5c155-05b9-44dd-b829-54db32d550c3",
     "showTitle": false,
     "tableResultSettingsMap": {},
     "title": ""
    }
   },
   "outputs": [
    {
     "output_type": "stream",
     "name": "stdout",
     "output_type": "stream",
     "text": [
      "Out[4]: time               object\ntemperature_2m    float64\nprecipitation     float64\nwind_gusts_10m    float64\ncloud_cover         int64\ndtype: object"
     ]
    }
   ],
   "source": [
    "df.dtypes"
   ]
  },
  {
   "cell_type": "code",
   "execution_count": 0,
   "metadata": {
    "application/vnd.databricks.v1+cell": {
     "cellMetadata": {
      "byteLimit": 2048000,
      "rowLimit": 10000
     },
     "inputWidgets": {},
     "nuid": "6387c261-db41-4c27-bd72-6512c81b0b61",
     "showTitle": false,
     "tableResultSettingsMap": {},
     "title": ""
    }
   },
   "outputs": [
    {
     "output_type": "stream",
     "name": "stdout",
     "output_type": "stream",
     "text": [
      "root\n |-- time: string (nullable = true)\n |-- temperature_2m: double (nullable = true)\n |-- precipitation: double (nullable = true)\n |-- wind_gusts_10m: double (nullable = true)\n |-- cloud_cover: double (nullable = true)\n\n"
     ]
    },
    {
     "output_type": "display_data",
     "data": {
      "text/html": [
       "<style scoped>\n",
       "  .table-result-container {\n",
       "    max-height: 300px;\n",
       "    overflow: auto;\n",
       "  }\n",
       "  table, th, td {\n",
       "    border: 1px solid black;\n",
       "    border-collapse: collapse;\n",
       "  }\n",
       "  th, td {\n",
       "    padding: 5px;\n",
       "  }\n",
       "  th {\n",
       "    text-align: left;\n",
       "  }\n",
       "</style><div class='table-result-container'><table class='table-result'><thead style='background-color: white'><tr><th>time</th><th>temperature_2m</th><th>precipitation</th><th>wind_gusts_10m</th><th>cloud_cover</th></tr></thead><tbody><tr><td>2024-06-01T00:00</td><td>23.4</td><td>0.0</td><td>8.3</td><td>0.0</td></tr><tr><td>2024-06-01T01:00</td><td>21.9</td><td>0.0</td><td>7.9</td><td>0.0</td></tr><tr><td>2024-06-01T02:00</td><td>20.9</td><td>0.0</td><td>7.2</td><td>0.0</td></tr><tr><td>2024-06-01T03:00</td><td>20.9</td><td>0.0</td><td>4.7</td><td>0.0</td></tr><tr><td>2024-06-01T04:00</td><td>20.8</td><td>0.0</td><td>3.2</td><td>1.0</td></tr><tr><td>2024-06-01T05:00</td><td>20.3</td><td>0.0</td><td>4.3</td><td>11.0</td></tr><tr><td>2024-06-01T06:00</td><td>19.5</td><td>0.0</td><td>4.3</td><td>1.0</td></tr><tr><td>2024-06-01T07:00</td><td>20.6</td><td>0.0</td><td>6.8</td><td>0.0</td></tr><tr><td>2024-06-01T08:00</td><td>22.2</td><td>0.0</td><td>13.7</td><td>0.0</td></tr><tr><td>2024-06-01T09:00</td><td>24.2</td><td>0.0</td><td>15.8</td><td>0.0</td></tr></tbody></table></div>"
      ]
     },
     "metadata": {
      "application/vnd.databricks.v1+output": {
       "addedWidgets": {},
       "aggData": [],
       "aggError": "",
       "aggOverflow": false,
       "aggSchema": [],
       "aggSeriesLimitReached": false,
       "aggType": "",
       "arguments": {},
       "columnCustomDisplayInfos": {},
       "data": [
        [
         "2024-06-01T00:00",
         23.4,
         0.0,
         8.3,
         0.0
        ],
        [
         "2024-06-01T01:00",
         21.9,
         0.0,
         7.9,
         0.0
        ],
        [
         "2024-06-01T02:00",
         20.9,
         0.0,
         7.2,
         0.0
        ],
        [
         "2024-06-01T03:00",
         20.9,
         0.0,
         4.7,
         0.0
        ],
        [
         "2024-06-01T04:00",
         20.8,
         0.0,
         3.2,
         1.0
        ],
        [
         "2024-06-01T05:00",
         20.3,
         0.0,
         4.3,
         11.0
        ],
        [
         "2024-06-01T06:00",
         19.5,
         0.0,
         4.3,
         1.0
        ],
        [
         "2024-06-01T07:00",
         20.6,
         0.0,
         6.8,
         0.0
        ],
        [
         "2024-06-01T08:00",
         22.2,
         0.0,
         13.7,
         0.0
        ],
        [
         "2024-06-01T09:00",
         24.2,
         0.0,
         15.8,
         0.0
        ]
       ],
       "datasetInfos": [],
       "dbfsResultPath": null,
       "isJsonSchema": true,
       "metadata": {},
       "overflow": false,
       "plotOptions": {
        "customPlotOptions": {},
        "displayType": "table",
        "pivotAggregation": null,
        "pivotColumns": null,
        "xColumns": null,
        "yColumns": null
       },
       "removedWidgets": [],
       "schema": [
        {
         "metadata": "{}",
         "name": "time",
         "type": "\"string\""
        },
        {
         "metadata": "{}",
         "name": "temperature_2m",
         "type": "\"double\""
        },
        {
         "metadata": "{}",
         "name": "precipitation",
         "type": "\"double\""
        },
        {
         "metadata": "{}",
         "name": "wind_gusts_10m",
         "type": "\"double\""
        },
        {
         "metadata": "{}",
         "name": "cloud_cover",
         "type": "\"double\""
        }
       ],
       "type": "table"
      }
     },
     "output_type": "display_data"
    }
   ],
   "source": [
    "# Create Spark dataframe for all further operations\n",
    "sdf = spark.createDataFrame(df)\n",
    "\n",
    "# Cast columns to types\n",
    "sdf = sdf.select(\n",
    "    col(\"time\").cast(StringType()),\n",
    "    col(\"temperature_2m\").cast(DoubleType()),\n",
    "    col(\"precipitation\").cast(DoubleType()),\n",
    "    col(\"wind_gusts_10m\").cast(DoubleType()),\n",
    "    col(\"cloud_cover\").cast(DoubleType()),\n",
    "    # col(\"pressure_msl\").cast(DoubleType()), # removed due to high interference with clustering\n",
    "    # col(\"visibility\").cast(DoubleType()), # removed due to high interference with clustering\n",
    ")\n",
    "\n",
    "sdf.printSchema()\n",
    "display(sdf.limit(10))"
   ]
  },
  {
   "cell_type": "markdown",
   "metadata": {
    "application/vnd.databricks.v1+cell": {
     "cellMetadata": {
      "byteLimit": 2048000,
      "rowLimit": 10000
     },
     "inputWidgets": {},
     "nuid": "6cb412ae-a0bc-472e-8722-201d0a607cab",
     "showTitle": false,
     "tableResultSettingsMap": {},
     "title": ""
    }
   },
   "source": [
    "## Assembly and Scaling\n",
    "For all model trainings to use the same & not having to re-execute this."
   ]
  },
  {
   "cell_type": "code",
   "execution_count": 0,
   "metadata": {
    "application/vnd.databricks.v1+cell": {
     "cellMetadata": {
      "byteLimit": 2048000,
      "rowLimit": 10000
     },
     "inputWidgets": {},
     "nuid": "0aeca624-63fa-46fc-ad65-bed72052b16a",
     "showTitle": false,
     "tableResultSettingsMap": {},
     "title": ""
    }
   },
   "outputs": [
    {
     "output_type": "stream",
     "name": "stdout",
     "output_type": "stream",
     "text": [
      "+-------------------+---------------------------------------------------------------------------------+\n|features           |features_scaled                                                                  |\n+-------------------+---------------------------------------------------------------------------------+\n|[23.4,0.0,8.3,0.0] |[1.1438667750464577,-0.2045818640908716,-1.1156504701003993,-1.3754718072117746] |\n|[21.9,0.0,7.9,0.0] |[0.8548976623774065,-0.2045818640908716,-1.1453730193555045,-1.3754718072117746] |\n|[20.9,0.0,7.2,0.0] |[0.6622515872647056,-0.2045818640908716,-1.1973874805519384,-1.3754718072117746] |\n|[20.9,0.0,4.7,0.0] |[0.6622515872647056,-0.2045818640908716,-1.3831534133963457,-1.3754718072117746] |\n|[20.8,0.0,3.2,1.0] |[0.6429869797534359,-0.2045818640908716,-1.4946129731029898,-1.3498521693545613] |\n|[20.3,0.0,4.3,11.0]|[0.5466639421970855,-0.2045818640908716,-1.4128759626514507,-1.0936557907824282] |\n|[19.5,0.0,4.3,1.0] |[0.39254708210692457,-0.2045818640908716,-1.4128759626514507,-1.3498521693545613]|\n|[20.6,0.0,6.8,0.0] |[0.6044577647308959,-0.2045818640908716,-1.2271100298070434,-1.3754718072117746] |\n|[22.2,0.0,13.7,0.0]|[0.9126914849112169,-0.2045818640908716,-0.71439605515648,-1.3754718072117746]   |\n|[24.2,0.0,15.8,0.0]|[1.2979836351366187,-0.2045818640908716,-0.5583526715671778,-1.3754718072117746] |\n|[25.6,0.0,21.6,0.0]|[1.5676881402944003,-0.2045818640908716,-0.12737570736815326,-1.3754718072117746]|\n|[26.2,0.0,24.8,5.0]|[1.6832757853620204,-0.2045818640908716,0.11040468667268781,-1.247373617925708]  |\n|[25.2,0.0,31.0,9.0]|[1.4906297102493196,-0.2045818640908716,0.5711042001268174,-1.1448950664968547]  |\n|[25.3,0.0,34.2,3.0]|[1.50989431776059,-0.2045818640908716,0.8088845941676588,-1.2986128936401347]    |\n|[24.9,0.0,34.9,1.0]|[1.4328358877155092,-0.2045818640908716,0.8608990553640925,-1.3498521693545613]  |\n|[24.8,0.0,35.3,0.0]|[1.4135712802042395,-0.2045818640908716,0.8906216046191975,-1.3754718072117746]  |\n|[24.0,0.0,34.2,0.0]|[1.2594544201140787,-0.2045818640908716,0.8088845941676588,-1.3754718072117746]  |\n|[23.0,0.0,33.1,0.0]|[1.0668083450013777,-0.2045818640908716,0.7271475837161195,-1.3754718072117746]  |\n|[21.6,0.0,31.7,0.0]|[0.7971038398435968,-0.2045818640908716,0.6231186613232513,-1.3754718072117746]  |\n|[20.6,0.0,28.8,1.0]|[0.6044577647308959,-0.2045818640908716,0.40763017922373923,-1.3498521693545613] |\n+-------------------+---------------------------------------------------------------------------------+\nonly showing top 20 rows\n\n"
     ]
    }
   ],
   "source": [
    "# Combine different feature columns into one single column (adds a \"features\" column of type vector)\n",
    "assembler = VectorAssembler(inputCols=feature_cols, outputCol=\"features\")\n",
    "assembled_sdf = assembler.transform(sdf)\n",
    "\n",
    "# Define scaler\n",
    "scaler = StandardScaler(\n",
    "    inputCol=\"features\", # assembled vector\n",
    "    outputCol=\"features_scaled\", # standardized vector\n",
    "    withMean=True, # centered around 0 (subtract mean)\n",
    "    withStd=True # std dev 1\n",
    ")\n",
    "\n",
    "scaler_model = scaler.fit(assembled_sdf)\n",
    "scaled_sdf = scaler_model.transform(assembled_sdf)\n",
    "\n",
    "# Save scaler model for usage in streaming\n",
    "scaler_model.write().overwrite().save(\"/dbfs/tmp/scaler_model\")\n",
    "\n",
    "scaled_sdf.select(\"features\", \"features_scaled\").show(truncate=False) # Check"
   ]
  },
  {
   "cell_type": "markdown",
   "metadata": {
    "application/vnd.databricks.v1+cell": {
     "cellMetadata": {
      "byteLimit": 2048000,
      "rowLimit": 10000
     },
     "inputWidgets": {},
     "nuid": "808ff2e2-cfa6-4761-9266-1efedc56c86d",
     "showTitle": false,
     "tableResultSettingsMap": {},
     "title": ""
    }
   },
   "source": [
    "## Saving to DBFS as a parquet file\n",
    "As we are saving the data which is going to have a fixed schema and we don't have a need for ACID transactions, we're using parquet and not a delta lake."
   ]
  },
  {
   "cell_type": "code",
   "execution_count": 0,
   "metadata": {
    "application/vnd.databricks.v1+cell": {
     "cellMetadata": {
      "byteLimit": 2048000,
      "rowLimit": 10000
     },
     "inputWidgets": {},
     "nuid": "b877a9ea-e4b7-4334-b0b8-81987caa3c1e",
     "showTitle": false,
     "tableResultSettingsMap": {},
     "title": ""
    }
   },
   "outputs": [
    {
     "output_type": "stream",
     "name": "stdout",
     "output_type": "stream",
     "text": [
      "Deleted previously saved table successfully.\nWrote 68 bytes.\nOut[7]: True"
     ]
    }
   ],
   "source": [
    "# Permanent table name\n",
    "permanent_table_name = \"historical_weather_hourly_lisbon\"\n",
    "\n",
    "# Try to delete table\n",
    "try:\n",
    "    dbutils.fs.rm(\"dbfs:/user/hive/warehouse/historical_weather_hourly_lisbon\", recurse=True)\n",
    "    print(\"Deleted previously saved table successfully.\")\n",
    "except Exception as e:\n",
    "    print(\"Path may not exist or could not be deleted:\", str(e))\n",
    "\n",
    "# Save table as parquet\n",
    "scaled_sdf.write.mode(\"overwrite\").format(\"parquet\").saveAsTable(permanent_table_name)\n",
    "\n",
    "# Save used feature cols\n",
    "dbutils.fs.put(\"dbfs:/tmp/feature_cols.json\", json.dumps(feature_cols), overwrite=True)"
   ]
  }
 ],
 "metadata": {
  "application/vnd.databricks.v1+notebook": {
   "computePreferences": null,
   "dashboards": [],
   "environmentMetadata": {
    "base_environment": "",
    "environment_version": "1"
   },
   "inputWidgetPreferences": null,
   "language": "python",
   "notebookMetadata": {
    "pythonIndentUnit": 4
   },
   "notebookName": "Data - Historical Data Load - Preprocessing - DBFS Saving",
   "widgets": {}
  }
 },
 "nbformat": 4,
 "nbformat_minor": 0
}